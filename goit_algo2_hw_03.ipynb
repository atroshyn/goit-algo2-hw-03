{
  "nbformat": 4,
  "nbformat_minor": 0,
  "metadata": {
    "colab": {
      "provenance": []
    },
    "kernelspec": {
      "name": "python3",
      "display_name": "Python 3"
    },
    "language_info": {
      "name": "python"
    }
  },
  "cells": [
    {
      "cell_type": "markdown",
      "source": [
        "## Завдання 1.Застосування алгоритму максимального потоку для логістики товарів"
      ],
      "metadata": {
        "id": "jYz7YAIOUsAw"
      }
    },
    {
      "cell_type": "code",
      "source": [
        "\n",
        "# Програмна реалізація Завдання 1 «Застосування алгоритму максимального потоку для логістики товарів»\n",
        "\n",
        "import networkx as nx\n",
        "from prettytable import PrettyTable\n",
        "\n",
        "# Побудова графа\n",
        "G = nx.DiGraph()\n",
        "\n",
        "# Додаємо ребра з пропускною здатністю (термінали до складів)\n",
        "G.add_edge('T1', 'S1', capacity=25)\n",
        "G.add_edge('T1', 'S2', capacity=20)\n",
        "G.add_edge('T1', 'S3', capacity=15)\n",
        "G.add_edge('T2', 'S3', capacity=15)\n",
        "G.add_edge('T2', 'S4', capacity=30)\n",
        "G.add_edge('T2', 'S2', capacity=10)\n",
        "\n",
        "# Склади до магазинів\n",
        "G.add_edge('S1', 'M1', capacity=15)\n",
        "G.add_edge('S1', 'M2', capacity=10)\n",
        "G.add_edge('S1', 'M3', capacity=20)\n",
        "G.add_edge('S2', 'M4', capacity=15)\n",
        "G.add_edge('S2', 'M5', capacity=10)\n",
        "G.add_edge('S2', 'M6', capacity=25)\n",
        "G.add_edge('S3', 'M7', capacity=20)\n",
        "G.add_edge('S3', 'M8', capacity=15)\n",
        "G.add_edge('S3', 'M9', capacity=10)\n",
        "G.add_edge('S4', 'M10', capacity=20)\n",
        "G.add_edge('S4', 'M11', capacity=10)\n",
        "G.add_edge('S4', 'M12', capacity=15)\n",
        "G.add_edge('S4', 'M13', capacity=5)\n",
        "G.add_edge('S4', 'M14', capacity=10)\n",
        "\n",
        "# Додаємо джерело та стік\n",
        "G.add_edge('SOURCE', 'T1', capacity=1000)\n",
        "G.add_edge('SOURCE', 'T2', capacity=1000)\n",
        "\n",
        "# З’єднуємо магазини до стоку\n",
        "for i in range(1, 15):\n",
        "    G.add_edge(f'M{i}', 'SINK', capacity=1000)\n",
        "\n",
        "# Застосування алгоритму Едмондса-Карпа\n",
        "flow_value, flow_dict = nx.maximum_flow(G, 'SOURCE', 'SINK')\n",
        "\n",
        "print(f\"\\nМаксимальний потік у мережі: {flow_value}\\n\")\n",
        "\n",
        "# Побудова очищеної таблиці: тільки потоки Термінал → Магазин\n",
        "table = PrettyTable()\n",
        "table.field_names = [\"Термінал\", \"Магазин\", \"Фактичний Потік (одиниць)\"]\n",
        "\n",
        "for terminal in ['T1', 'T2']:\n",
        "    for warehouse in flow_dict[terminal]:\n",
        "        if flow_dict[terminal][warehouse] > 0:\n",
        "            # Перевіряємо, чи є склад у словнику потоку\n",
        "            if warehouse in flow_dict:\n",
        "                for shop in flow_dict[warehouse]:\n",
        "                    flow = flow_dict[warehouse][shop]\n",
        "                    if flow > 0 and shop.startswith(\"M\"):\n",
        "                        table.add_row([terminal, shop, flow])\n",
        "\n",
        "print(\"Потоки між терміналами та магазинами:\")\n",
        "print(table)"
      ],
      "metadata": {
        "colab": {
          "base_uri": "https://localhost:8080/"
        },
        "id": "Mwu2wW4kWZQX",
        "outputId": "9d3e79fa-7b3f-4b49-8032-26adfc041027"
      },
      "execution_count": 10,
      "outputs": [
        {
          "output_type": "stream",
          "name": "stdout",
          "text": [
            "\n",
            "Максимальний потік у мережі: 115\n",
            "\n",
            "Потоки між терміналами та магазинами:\n",
            "+----------+---------+---------------------------+\n",
            "| Термінал | Магазин | Фактичний Потік (одиниць) |\n",
            "+----------+---------+---------------------------+\n",
            "|    T1    |    M1   |             15            |\n",
            "|    T1    |    M2   |             10            |\n",
            "|    T1    |    M4   |             15            |\n",
            "|    T1    |    M5   |             10            |\n",
            "|    T1    |    M6   |             5             |\n",
            "|    T1    |    M7   |             20            |\n",
            "|    T1    |    M8   |             10            |\n",
            "|    T2    |    M7   |             20            |\n",
            "|    T2    |    M8   |             10            |\n",
            "|    T2    |   M10   |             20            |\n",
            "|    T2    |   M11   |             10            |\n",
            "|    T2    |    M4   |             15            |\n",
            "|    T2    |    M5   |             10            |\n",
            "|    T2    |    M6   |             5             |\n",
            "+----------+---------+---------------------------+\n"
          ]
        }
      ]
    },
    {
      "cell_type": "markdown",
      "source": [
        "##Завдання 2. Порівняння ефективності OOBTree і словника для діапазонних запитів"
      ],
      "metadata": {
        "id": "omikb8-lUyjc"
      }
    },
    {
      "cell_type": "code",
      "source": [
        "pip install BTrees"
      ],
      "metadata": {
        "colab": {
          "base_uri": "https://localhost:8080/"
        },
        "id": "6Rj8WHCyXuyW",
        "outputId": "8acdfa27-9b46-41b0-8019-dc2d0ddb88ad"
      },
      "execution_count": 15,
      "outputs": [
        {
          "output_type": "stream",
          "name": "stdout",
          "text": [
            "Collecting BTrees\n",
            "  Downloading BTrees-6.1-cp311-cp311-manylinux_2_17_x86_64.manylinux2014_x86_64.whl.metadata (20 kB)\n",
            "Collecting persistent>=4.1.0 (from BTrees)\n",
            "  Downloading persistent-6.1.1-cp311-cp311-manylinux_2_5_x86_64.manylinux1_x86_64.manylinux_2_17_x86_64.manylinux2014_x86_64.whl.metadata (21 kB)\n",
            "Collecting zope.interface>=5.0.0 (from BTrees)\n",
            "  Downloading zope.interface-7.2-cp311-cp311-manylinux_2_5_x86_64.manylinux1_x86_64.manylinux_2_17_x86_64.manylinux2014_x86_64.whl.metadata (44 kB)\n",
            "\u001b[2K     \u001b[90m━━━━━━━━━━━━━━━━━━━━━━━━━━━━━━━━━━━━━━━━\u001b[0m \u001b[32m44.4/44.4 kB\u001b[0m \u001b[31m3.3 MB/s\u001b[0m eta \u001b[36m0:00:00\u001b[0m\n",
            "\u001b[?25hCollecting zope.deferredimport (from persistent>=4.1.0->BTrees)\n",
            "  Downloading zope.deferredimport-5.0-py3-none-any.whl.metadata (5.1 kB)\n",
            "Requirement already satisfied: cffi in /usr/local/lib/python3.11/dist-packages (from persistent>=4.1.0->BTrees) (1.17.1)\n",
            "Requirement already satisfied: setuptools in /usr/local/lib/python3.11/dist-packages (from zope.interface>=5.0.0->BTrees) (75.2.0)\n",
            "Requirement already satisfied: pycparser in /usr/local/lib/python3.11/dist-packages (from cffi->persistent>=4.1.0->BTrees) (2.22)\n",
            "Collecting zope.proxy (from zope.deferredimport->persistent>=4.1.0->BTrees)\n",
            "  Downloading zope.proxy-6.1-cp311-cp311-manylinux_2_5_x86_64.manylinux1_x86_64.manylinux_2_17_x86_64.manylinux2014_x86_64.whl.metadata (11 kB)\n",
            "Downloading BTrees-6.1-cp311-cp311-manylinux_2_17_x86_64.manylinux2014_x86_64.whl (3.8 MB)\n",
            "\u001b[2K   \u001b[90m━━━━━━━━━━━━━━━━━━━━━━━━━━━━━━━━━━━━━━━━\u001b[0m \u001b[32m3.8/3.8 MB\u001b[0m \u001b[31m31.0 MB/s\u001b[0m eta \u001b[36m0:00:00\u001b[0m\n",
            "\u001b[?25hDownloading persistent-6.1.1-cp311-cp311-manylinux_2_5_x86_64.manylinux1_x86_64.manylinux_2_17_x86_64.manylinux2014_x86_64.whl (232 kB)\n",
            "\u001b[2K   \u001b[90m━━━━━━━━━━━━━━━━━━━━━━━━━━━━━━━━━━━━━━━━\u001b[0m \u001b[32m232.9/232.9 kB\u001b[0m \u001b[31m14.5 MB/s\u001b[0m eta \u001b[36m0:00:00\u001b[0m\n",
            "\u001b[?25hDownloading zope.interface-7.2-cp311-cp311-manylinux_2_5_x86_64.manylinux1_x86_64.manylinux_2_17_x86_64.manylinux2014_x86_64.whl (259 kB)\n",
            "\u001b[2K   \u001b[90m━━━━━━━━━━━━━━━━━━━━━━━━━━━━━━━━━━━━━━━━\u001b[0m \u001b[32m259.8/259.8 kB\u001b[0m \u001b[31m10.8 MB/s\u001b[0m eta \u001b[36m0:00:00\u001b[0m\n",
            "\u001b[?25hDownloading zope.deferredimport-5.0-py3-none-any.whl (10.0 kB)\n",
            "Downloading zope.proxy-6.1-cp311-cp311-manylinux_2_5_x86_64.manylinux1_x86_64.manylinux_2_17_x86_64.manylinux2014_x86_64.whl (71 kB)\n",
            "\u001b[2K   \u001b[90m━━━━━━━━━━━━━━━━━━━━━━━━━━━━━━━━━━━━━━━━\u001b[0m \u001b[32m71.8/71.8 kB\u001b[0m \u001b[31m5.7 MB/s\u001b[0m eta \u001b[36m0:00:00\u001b[0m\n",
            "\u001b[?25hInstalling collected packages: zope.interface, zope.proxy, zope.deferredimport, persistent, BTrees\n",
            "Successfully installed BTrees-6.1 persistent-6.1.1 zope.deferredimport-5.0 zope.interface-7.2 zope.proxy-6.1\n"
          ]
        }
      ]
    },
    {
      "cell_type": "code",
      "source": [
        "# Програмна реалізація Завдання 2 «Порівняння ефективності OOBTree і словника для діапазонних запитів»\n",
        "\n",
        "from BTrees.OOBTree import OOBTree\n",
        "import csv\n",
        "import timeit\n",
        "from typing import Dict, List\n",
        "from collections import defaultdict\n",
        "\n",
        "# Читання файлу CSV\n",
        "def load_items_from_csv(file_path: str) -> list:\n",
        "    items = []\n",
        "    with open(file_path, newline='', encoding='utf-8') as csvfile:\n",
        "        reader = csv.DictReader(csvfile)\n",
        "        for row in reader:\n",
        "            items.append({\n",
        "                \"id\": row[\"ID\"],\n",
        "                \"name\": row[\"Name\"],\n",
        "                \"category\": row[\"Category\"],\n",
        "                \"price\": float(row[\"Price\"])\n",
        "            })\n",
        "    return items\n",
        "\n",
        "# Функція додавання до OOBTree: ключ — ціна\n",
        "def add_item_to_tree(tree: OOBTree, item: Dict):\n",
        "    price = item[\"price\"]\n",
        "    if price not in tree:\n",
        "        tree[price] = []\n",
        "    tree[price].append(item)\n",
        "\n",
        "# Функція діапазонний запит у OOBTree\n",
        "def range_query_tree(tree: OOBTree, min_price: float, max_price: float):\n",
        "    result = []\n",
        "    for _, items in tree.items(min_price, max_price):\n",
        "        result.extend(items)\n",
        "    return result\n",
        "\n",
        "# Функція додавання до звичайного словника\n",
        "def add_item_to_dict(store: Dict, item: Dict):\n",
        "    store[item[\"id\"]] = item\n",
        "\n",
        "# Функція діапазонний запит у словнику\n",
        "def range_query_dict(store: Dict, min_price: float, max_price: float):\n",
        "    return [item for item in store.values() if min_price <= item[\"price\"] <= max_price]\n",
        "\n",
        "# Підготовка\n",
        "items = load_items_from_csv('generated_items_data.csv')\n",
        "tree = OOBTree()\n",
        "dict_store = {}\n",
        "\n",
        "for item in items:\n",
        "    add_item_to_tree(tree, item)\n",
        "    add_item_to_dict(dict_store, item)\n",
        "\n",
        "# Межі діапазону\n",
        "min_price = 100\n",
        "max_price = 200\n",
        "\n",
        "# Вимірювання часу\n",
        "print(\"Виконання діапазонних запитів по OOBTree...\")\n",
        "tree_time = timeit.timeit(lambda: range_query_tree(tree, min_price, max_price), number=100)\n",
        "print(f\"Total range_query time for OOBTree: {tree_time:.6f} seconds\")\n",
        "\n",
        "print(\"Виконання діапазонних запитів по Dict...\")\n",
        "dict_time = timeit.timeit(lambda: range_query_dict(dict_store, min_price, max_price), number=100)\n",
        "print(f\"Total range_query time for Dict: {dict_time:.6f} seconds\")"
      ],
      "metadata": {
        "colab": {
          "base_uri": "https://localhost:8080/"
        },
        "id": "wzoHZjiQWZoa",
        "outputId": "6e9c052e-586a-482b-81bb-9b6d0e784320"
      },
      "execution_count": 22,
      "outputs": [
        {
          "output_type": "stream",
          "name": "stdout",
          "text": [
            "Виконання діапазонних запитів по OOBTree...\n",
            "Total range_query time for OOBTree: 0.000601 seconds\n",
            "Виконання діапазонних запитів по Dict...\n",
            "Total range_query time for Dict: 0.002204 seconds\n"
          ]
        }
      ]
    }
  ]
}